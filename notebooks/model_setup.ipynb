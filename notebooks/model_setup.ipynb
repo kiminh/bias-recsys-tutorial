{
 "cells": [
  {
   "cell_type": "markdown",
   "metadata": {
    "collapsed": true
   },
   "source": [
    "# Notebook #1: Designing and evaluating a recommendation algorithm\n",
    "\n",
    "In this notebook, we become familiar with the Python recommendation toolbox, in the simplest possible way. First, we setup the working environment in GDrive. Then, we go through the experimental pipeline, by:\n",
    "- loading the Movielens 1M dataset; \n",
    "- performing a train-test splitting;\n",
    "- creating a pointwise / pairwise / random / mostpop recommendation object;\n",
    "- training the model (if applicable);\n",
    "- computing the user-item relevance matrix;\n",
    "- calculating some of the recommendation metrics (e.g., NDCG, Item Coverage, Diversity, Novelty).\n",
    "\n",
    "The trained models, together with the partial computation we will save (e.g., user-item relevance matrix or metrics), will be the starting point of the investigation and the treatment covered by the other Jupyter notebooks. "
   ]
  },
  {
   "cell_type": "markdown",
   "metadata": {},
   "source": [
    "## Setup the working environment\n",
    "\n",
    "- Python 3.6\n",
    "- Package Requirements: matplotlib, numpy, pandas, scikit-learn, scipy, tensorflow-gpu==2.0\n",
    "- Storage requirements: around 1GB"
   ]
  },
  {
   "cell_type": "markdown",
   "metadata": {},
   "source": [
    "This step serves to mount GDrive storage within this Jupyter notebook. The command will request us to give access permissions to this notebook, so that we will be able to clone the project repository when we desire. Please follow the prompted instructions."
   ]
  },
  {
   "cell_type": "code",
   "execution_count": null,
   "metadata": {},
   "outputs": [],
   "source": [
    "from google.colab import drive\n",
    "drive.mount('/content/gdrive')"
   ]
  },
  {
   "cell_type": "markdown",
   "metadata": {},
   "source": [
    "We will clone the project repository in our My Drive folder. If you wish to change the target folder, please modify the command below."
   ]
  },
  {
   "cell_type": "code",
   "execution_count": null,
   "metadata": {},
   "outputs": [],
   "source": [
    "%cd /content/gdrive/My Drive/"
   ]
  },
  {
   "cell_type": "code",
   "execution_count": null,
   "metadata": {},
   "outputs": [],
   "source": [
    "! git clone https://github.com/mirkomarras/bias-recsys-tutorial.git"
   ]
  },
  {
   "cell_type": "markdown",
   "metadata": {},
   "source": [
    "We will move to the project folder in order to install the required packages. "
   ]
  },
  {
   "cell_type": "code",
   "execution_count": null,
   "metadata": {},
   "outputs": [],
   "source": [
    "%cd bias-recsys-tutorial"
   ]
  },
  {
   "cell_type": "code",
   "execution_count": null,
   "metadata": {},
   "outputs": [],
   "source": [
    "! ls"
   ]
  },
  {
   "cell_type": "code",
   "execution_count": null,
   "metadata": {},
   "outputs": [],
   "source": [
    "! pip install -r requirements.txt"
   ]
  },
  {
   "cell_type": "markdown",
   "metadata": {},
   "source": [
    "We will configure the notebooks directory as our working directory in order to simulate a local notebook execution. "
   ]
  },
  {
   "cell_type": "code",
   "execution_count": null,
   "metadata": {},
   "outputs": [],
   "source": [
    "%cd bias-recsys-tutorial/notebooks"
   ]
  },
  {
   "cell_type": "markdown",
   "metadata": {},
   "source": [
    "## Import packages"
   ]
  },
  {
   "cell_type": "code",
   "execution_count": 1,
   "metadata": {},
   "outputs": [],
   "source": [
    "import sys \n",
    "import os\n",
    "\n",
    "sys.path.append(os.path.join('..'))"
   ]
  },
  {
   "cell_type": "code",
   "execution_count": null,
   "metadata": {},
   "outputs": [],
   "source": [
    "import pandas as pd\n",
    "import numpy as np"
   ]
  },
  {
   "cell_type": "code",
   "execution_count": null,
   "metadata": {},
   "outputs": [],
   "source": [
    "from helpers.train_test_splitter import *\n",
    "from helpers.utils import *"
   ]
  },
  {
   "cell_type": "markdown",
   "metadata": {},
   "source": [
    "We will define the folders where we will store our pre-computed results. "
   ]
  },
  {
   "cell_type": "code",
   "execution_count": null,
   "metadata": {},
   "outputs": [],
   "source": [
    "data_path = '../data/'"
   ]
  },
  {
   "cell_type": "code",
   "execution_count": null,
   "metadata": {},
   "outputs": [],
   "source": [
    "!mkdir '../data/outputs/splits'\n",
    "!mkdir '../data/outputs/instances'\n",
    "!mkdir '../data/outputs/models'\n",
    "!mkdir '../data/outputs/predictions'\n",
    "!mkdir '../data/outputs/metrics'"
   ]
  },
  {
   "cell_type": "markdown",
   "metadata": {},
   "source": [
    "## Load data"
   ]
  },
  {
   "cell_type": "markdown",
   "metadata": {},
   "source": [
    "First, we "
   ]
  },
  {
   "cell_type": "code",
   "execution_count": null,
   "metadata": {},
   "outputs": [],
   "source": [
    "dataset = 'ml1m'  \n",
    "user_field = 'user_id'\n",
    "item_field = 'item_id'\n",
    "rating_field = 'rating'\n",
    "time_field = 'timestamp'"
   ]
  },
  {
   "cell_type": "code",
   "execution_count": null,
   "metadata": {},
   "outputs": [],
   "source": [
    "data = pd.read_csv(os.path.join(data_path, 'datasets/' + dataset + '.csv'), encoding='utf8')"
   ]
  },
  {
   "cell_type": "code",
   "execution_count": null,
   "metadata": {},
   "outputs": [],
   "source": [
    "data.head()"
   ]
  },
  {
   "cell_type": "markdown",
   "metadata": {},
   "source": [
    "## Split data in train and test sets"
   ]
  },
  {
   "cell_type": "markdown",
   "metadata": {},
   "source": [
    "Define the train-test split parameters\n",
    "- **dataset**: csv file present in the data/datasets folder\n",
    "- **method**: 'uftime' for fixed timestamp split, 'utime' for time-based split per user, 'urandom' for random split per user \n",
    "- **percentage**: percentage of data to be included in the train set\n",
    "- **min_train**: minimum number of train samples for a user to be included  \n",
    "- **min_test**: minimum number of test samples for a user to be included\n",
    "- **min_time**: start time of interactions to be included\n",
    "- **max_time**: end time of interactions to be included\n",
    "- **step_time**: timestamp step while computing the fixed timestamp splitter (only for method \"uftime\") \n",
    "- **user_field**: name of the user column in the dataset csv file\n",
    "- **item_field**: name of the item column in the dataset csv file\n",
    "- **rating_field**: name of the rating column in the dataset csv file\n",
    "- **time_field**: name of the user column in the dataset csv file"
   ]
  },
  {
   "cell_type": "code",
   "execution_count": 5,
   "metadata": {},
   "outputs": [],
   "source": [
    "method = 'utime'\n",
    "percentage = 0.80        \n",
    "min_train = 8\n",
    "min_test = 2\n",
    "min_time = None\n",
    "max_time = None\n",
    "step_time = 1000"
   ]
  },
  {
   "cell_type": "markdown",
   "metadata": {},
   "source": [
    "Load dataset interactions"
   ]
  },
  {
   "cell_type": "code",
   "execution_count": 6,
   "metadata": {},
   "outputs": [],
   "source": []
  },
  {
   "cell_type": "code",
   "execution_count": 7,
   "metadata": {},
   "outputs": [
    {
     "data": {
      "text/html": [
       "<div>\n",
       "<style scoped>\n",
       "    .dataframe tbody tr th:only-of-type {\n",
       "        vertical-align: middle;\n",
       "    }\n",
       "\n",
       "    .dataframe tbody tr th {\n",
       "        vertical-align: top;\n",
       "    }\n",
       "\n",
       "    .dataframe thead th {\n",
       "        text-align: right;\n",
       "    }\n",
       "</style>\n",
       "<table border=\"1\" class=\"dataframe\">\n",
       "  <thead>\n",
       "    <tr style=\"text-align: right;\">\n",
       "      <th></th>\n",
       "      <th>user_id</th>\n",
       "      <th>item_id</th>\n",
       "      <th>rating</th>\n",
       "      <th>timestamp</th>\n",
       "      <th>type</th>\n",
       "      <th>type_id</th>\n",
       "    </tr>\n",
       "  </thead>\n",
       "  <tbody>\n",
       "    <tr>\n",
       "      <th>0</th>\n",
       "      <td>1</td>\n",
       "      <td>1193</td>\n",
       "      <td>5.0</td>\n",
       "      <td>2000-12-31 23:12:40</td>\n",
       "      <td>Drama</td>\n",
       "      <td>7</td>\n",
       "    </tr>\n",
       "    <tr>\n",
       "      <th>1</th>\n",
       "      <td>2</td>\n",
       "      <td>1193</td>\n",
       "      <td>5.0</td>\n",
       "      <td>2000-12-31 22:33:33</td>\n",
       "      <td>Drama</td>\n",
       "      <td>7</td>\n",
       "    </tr>\n",
       "    <tr>\n",
       "      <th>2</th>\n",
       "      <td>12</td>\n",
       "      <td>1193</td>\n",
       "      <td>4.0</td>\n",
       "      <td>2000-12-31 00:49:39</td>\n",
       "      <td>Drama</td>\n",
       "      <td>7</td>\n",
       "    </tr>\n",
       "    <tr>\n",
       "      <th>3</th>\n",
       "      <td>15</td>\n",
       "      <td>1193</td>\n",
       "      <td>4.0</td>\n",
       "      <td>2000-12-30 19:01:19</td>\n",
       "      <td>Drama</td>\n",
       "      <td>7</td>\n",
       "    </tr>\n",
       "    <tr>\n",
       "      <th>4</th>\n",
       "      <td>17</td>\n",
       "      <td>1193</td>\n",
       "      <td>5.0</td>\n",
       "      <td>2000-12-30 07:41:11</td>\n",
       "      <td>Drama</td>\n",
       "      <td>7</td>\n",
       "    </tr>\n",
       "  </tbody>\n",
       "</table>\n",
       "</div>"
      ],
      "text/plain": [
       "   user_id  item_id  rating            timestamp   type  type_id\n",
       "0        1     1193     5.0  2000-12-31 23:12:40  Drama        7\n",
       "1        2     1193     5.0  2000-12-31 22:33:33  Drama        7\n",
       "2       12     1193     4.0  2000-12-31 00:49:39  Drama        7\n",
       "3       15     1193     4.0  2000-12-30 19:01:19  Drama        7\n",
       "4       17     1193     5.0  2000-12-30 07:41:11  Drama        7"
      ]
     },
     "execution_count": 7,
     "metadata": {},
     "output_type": "execute_result"
    }
   ],
   "source": []
  },
  {
   "cell_type": "markdown",
   "metadata": {},
   "source": [
    "Perform the train and tets split (splitting methods are defined in ./helpers/traintest_splitter.py)"
   ]
  },
  {
   "cell_type": "code",
   "execution_count": 8,
   "metadata": {},
   "outputs": [
    {
     "name": "stdout",
     "output_type": "stream",
     "text": [
      "> Parsing user 6000 of 6040\n",
      "> Mean number of train ratings per learner: 133.07913907284768\n",
      "> Mean number of test ratings per learner: 32.51837748344371\n"
     ]
    }
   ],
   "source": [
    "if method == 'uftime':\n",
    "    traintest = fixed_timestamp(data, min_train, min_test, min_time, max_time, step_time, user_field, item_field, time_field, rating_field)\n",
    "elif method == 'utime':\n",
    "    traintest = user_timestamp(data, percentage, min_train+min_test, user_field, item_field, time_field)\n",
    "elif method == 'urandom':\n",
    "    traintest = user_random(data, percentage, min_train+min_test, user_field, item_field)"
   ]
  },
  {
   "cell_type": "markdown",
   "metadata": {},
   "source": [
    "Save train and test sets in ./data/outputs/splits"
   ]
  },
  {
   "cell_type": "code",
   "execution_count": 10,
   "metadata": {},
   "outputs": [],
   "source": [
    "traintest.to_csv(os.path.join(data_path, 'outputs/splits/' + dataset + '_' + method + '.csv'))"
   ]
  },
  {
   "cell_type": "markdown",
   "metadata": {},
   "source": [
    "## Run the model train and test"
   ]
  },
  {
   "cell_type": "markdown",
   "metadata": {},
   "source": [
    "Define the experiment parameters\n",
    "- **dataset**: csv file present in the data/datasets folder\n",
    "- **method**: 'uftime' for fixed timestamp split, 'utime' for time-based split per user, 'urandom' for random split per user \n",
    "- **mode**: type of feedback to be used (i.e., 'implicit' or 'explicit')\n",
    "- **user_field**: name of the user column in the dataset csv file\n",
    "- **item_field**: name of the item column in the dataset csv file\n",
    "- **rating_field**: name of the rating column in the dataset csv file\n",
    "- **type_field**: name of the category id column in the dataset csv file\n",
    "- **model_type**: identifier of the recommendation model to test\n",
    "- **cutoffs**: comma-separated list of cutoffs to be used for test"
   ]
  },
  {
   "cell_type": "code",
   "execution_count": 6,
   "metadata": {},
   "outputs": [],
   "source": [
    "dataset = 'ml1m'\n",
    "method = 'utime'\n",
    "mode = 'implicit'\n",
    "user_field = 'user_id'\n",
    "item_field = 'item_id'\n",
    "rating_field = 'rating'\n",
    "type_field = 'type_id'\n",
    "cutoffs = np.array([5,10,20,50,100,200])"
   ]
  },
  {
   "cell_type": "markdown",
   "metadata": {},
   "source": [
    "Load pre-compute train and test sets"
   ]
  },
  {
   "cell_type": "code",
   "execution_count": 7,
   "metadata": {},
   "outputs": [
    {
     "name": "stdout",
     "output_type": "stream",
     "text": [
      "> Loaded 803798 train interactions\n",
      "> Loaded 196411 test interactions\n"
     ]
    }
   ],
   "source": [
    "traintest = pd.read_csv(os.path.join(data_path, 'outputs/splits/' + dataset + '_' + method + '.csv'), encoding='utf8')\n",
    "train = traintest[traintest['set']=='train'].copy()\n",
    "test = traintest[traintest['set']=='test'].copy()\n",
    "print('> Loaded', len(train.index), 'train interactions')\n",
    "print('> Loaded', len(test.index), 'test interactions')"
   ]
  },
  {
   "cell_type": "markdown",
   "metadata": {},
   "source": [
    "Show some statistics on users and items"
   ]
  },
  {
   "cell_type": "code",
   "execution_count": 8,
   "metadata": {},
   "outputs": [
    {
     "name": "stdout",
     "output_type": "stream",
     "text": [
      "> Loaded 6040 users - 0 - 6039 - 6040 - [0, 1, 2, 3, 4, 5, 6, 7, 8, 9]\n",
      "> Loaded 3706 items - 0 - 3705 - 3706 - [0, 1, 2, 3, 4, 5, 6, 7, 8, 9]\n"
     ]
    }
   ],
   "source": [
    "users = list(np.unique(traintest[user_field].values))\n",
    "items = list(np.unique(traintest[item_field].values))\n",
    "users.sort()\n",
    "items.sort()\n",
    "print('> Loaded', len(users), 'users -', np.min(users), '-', np.max(users), '-', len(np.unique(users)), '-', users[:10])\n",
    "print('> Loaded', len(items), 'items -', np.min(items), '-', np.max(items), '-', len(np.unique(items)), '-', items[:10])"
   ]
  },
  {
   "cell_type": "markdown",
   "metadata": {},
   "source": [
    "Load category data for items"
   ]
  },
  {
   "cell_type": "code",
   "execution_count": 9,
   "metadata": {},
   "outputs": [
    {
     "name": "stdout",
     "output_type": "stream",
     "text": [
      "> Retrieved 3706 mapping indexes, one per course\n",
      "> Loading item categories identifiers - 18 categories like [ 7 13  3]\n"
     ]
    }
   ],
   "source": [
    "items_metadata = traintest.drop_duplicates(subset=['item_id'], keep='first')\n",
    "print('> Retrieved', len(items_metadata.index), 'mapping indexes, one per course')\n",
    "category_per_item = items_metadata[type_field].values\n",
    "print('> Loading item categories identifiers -', len(set(category_per_item)), 'categories like', category_per_item[:3])"
   ]
  },
  {
   "cell_type": "markdown",
   "metadata": {},
   "source": [
    "Choose the type of feedback you want to work with"
   ]
  },
  {
   "cell_type": "code",
   "execution_count": 10,
   "metadata": {},
   "outputs": [],
   "source": [
    "if mode == 'implicit':\n",
    "    train[rating_field] = train[rating_field].apply(lambda x: 1.0)\n",
    "    test[rating_field] = test[rating_field].apply(lambda x: 1.0)\n",
    "    traintest[rating_field] = traintest[rating_field].apply(lambda x: 1.0)"
   ]
  },
  {
   "cell_type": "markdown",
   "metadata": {},
   "source": [
    "Load the model architecture to train and test"
   ]
  },
  {
   "cell_type": "code",
   "execution_count": 11,
   "metadata": {},
   "outputs": [
    {
     "name": "stdout",
     "output_type": "stream",
     "text": [
      "> Initializing user, item, and categories lists\n",
      "> Initializing observed, unobserved, and predicted relevance scores\n",
      "> Initializing item popularity lists\n",
      "> Initializing category per item\n",
      "> Initializing category preference per user\n",
      "> Initializing metrics\n"
     ]
    }
   ],
   "source": [
    "from models.pairwise import PairWise\n",
    "model_type = 'pairwise'\n",
    "model = PairWise(users, items, train, test, category_per_item, item_field, user_field, rating_field)"
   ]
  },
  {
   "cell_type": "markdown",
   "metadata": {},
   "source": [
    "Train the model"
   ]
  },
  {
   "cell_type": "code",
   "execution_count": 12,
   "metadata": {},
   "outputs": [
    {
     "name": "stdout",
     "output_type": "stream",
     "text": [
      "Generating training instances of type pair\n",
      "> Making instances for interaction 800000 / 803798 of type pair 310000 / 803798 of type pair 560000 / 803798 of type pair\n",
      "> Making training - Epochs 20 Batch Size 1024 Learning Rate 0.001 Factors 10 Negatives 10 Mode pair\n",
      "Train on 7877220 samples\n",
      "7877220/7877220 [==============================] - 28s 4us/sample - loss: 0.1923\n",
      "> auc score: 0.858201970092185 - validation sample 3016000 of 30165444.8678059320369279 - validation sample 56000 of 3016544 3016544 0.8635761368655261 - validation sample 120000 of 3016544 0.8621096948572836 - validation sample 138000 of 3016544 0.8636517969683862 - validation sample 215000 of 3016544 0.8633871286255099 - validation sample 238000 of 3016544 0.8633833461588041 - validation sample 256000 of 3016544281000 of 3016544 0.8617447155910964 - validation sample 305000 of 3016544 0.8614865800412922 - validation sample 325000 of 3016544 - validation sample 373000 of 3016544of 3016544 0.860321722013189 - validation sample 476000 of 3016544 0.8600528079741253 - validation sample 495000 of 3016544 0.8592760613957572 - validation sample 533000 of 3016544 3016544 0.8575829972130331 - validation sample 568000 of 3016544 590000 of 3016544 3016544 0.8574689198947788 - validation sample 655000 of 3016544 0.8574410392884034 - validation sample 676000 of 3016544 0.8577046517867263 - validation sample 697000 of 3016544 0.8569947878448813 - validation sample 740000 of 3016544 0.8570751880589631 - validation sample 760000 of 3016544 0.8577258234284315 - validation sample 780000 of 3016544of 3016544 0.8578209050964573 - validation sample 820000 of 3016544 0.8574304440638331 - validation sample 839000 of 3016544 0.8570421246595283 - validation sample 858000 of 3016544 0.8564451764971974 - validation sample 955000 of 3016544 1009000 of 3016544of 3016544 0.8564996756144899 - validation sample 1099000 of 30165440.8564996842341149 - validation sample 1129000 of 3016544 0.8565804107218261 - validation sample 1177000 of 3016544 0.856743920046347 - validation sample 1210000 of 3016544 - validation sample 1224000 of 3016544of 3016544 0.8570496406842447 - validation sample 1272000 of 30165443016544 0.8577482535198122 - validation sample 1350000 of 30165443016544 0.8583672900704942 - validation sample 1457000 of 3016544 of 30165443016544 1530000 of 3016544 0.8585674491143465 - validation sample 1544000 of 3016544 0.8585974181950266 - validation sample 1572000 of 3016544 of 30165441640000 of 3016544 0.858605046215943 - validation sample 1653000 of 3016544 1666000 of 3016544 0.8587790432747971 - validation sample 1692000 of 3016544 3016544of 3016544 0.8587528062232896 - validation sample 1743000 of 3016544 0.858489580944983 - validation sample 1810000 of 3016544 1823000 of 30165441835000 of 3016544 3016544 0.8588046669489231 - validation sample 1873000 of 30165440.8588037884330035 - validation sample 1885000 of 3016544 0.8586178921360611 - validation sample 1897000 of 3016544 - validation sample 1909000 of 3016544 0.8583410419880052 - validation sample 1921000 of 3016544- validation sample 1933000 of 3016544 0.8581533651474459 - validation sample 1944000 of 3016544 1956000 of 3016544 0.858230880411347 - validation sample 1967000 of 3016544 0.8581823885202855 - validation sample 2002000 of 3016544 0.8581475623659969 - validation sample 2034000 of 3016544 0.8581038892733157 - validation sample 2042000 of 3016544 0.8581538027555867 - validation sample 2049000 of 3016544 0.8581307783621096 - validation sample 2058000 of 3016544 0.8581190817033953 - validation sample 2067000 of 3016544 0.8580516190684396 - validation sample 2095000 of 3016544 0.8578379953241467 - validation sample 2104000 of 3016544 0.857838135493307 - validation sample 2112000 of 3016544 0.8578383508541486 - validation sample 2121000 of 3016544 0.8577346840137698 - validation sample 2129000 of 3016544 0.8577386072317085 - validation sample 2138000 of 3016544 0.857743548536523 - validation sample 2148000 of 3016544 0.8575753322948901 - validation sample 2159000 of 3016544 0.8576085606608677 - validation sample 2166000 of 3016544 0.8575819422346171 - validation sample 2174000 of 3016544 0.8575628217422082 - validation sample 2191000 of 3016544 - validation sample 2212000 of 3016544 2222000 of 3016544 0.8575229132961858 - validation sample 2232000 of 3016544 2242000 of 3016544 0.8576266647694809 - validation sample 2263000 of 3016544- validation sample 2274000 of 3016544 0.8575237051122132 - validation sample 2284000 of 3016544 0.8575421467326007 - validation sample 2293000 of 3016544 0.8575304702300303 - validation sample 2302000 of 3016544 0.8574931412226898 - validation sample 2312000 of 3016544 0.8574085060713028 - validation sample 2321000 of 3016544 0.8574099324420891 - validation sample 2330000 of 3016544 0.8573702894952122 - validation sample 2358000 of 3016544 0.8573256708821942 - validation sample 2374000 of 3016544 0.8573749550732406 - validation sample 2390000 of 3016544 0.8573681294838976 - validation sample 2399000 of 3016544 - validation sample 2420000 of 3016544 0.8572526340120997 - validation sample 2427000 of 3016544 0.8572714460616266 - validation sample 2443000 of 3016544- validation sample 2452000 of 3016544 0.8573633249234762 - validation sample 2461000 of 3016544 0.8574721224809221 - validation sample 2470000 of 30165440.857408616306574 - validation sample 2477000 of 3016544 2516000 of 3016544 0.8575624326485415 - validation sample 2525000 of 3016544- validation sample 2557000 of 30165442589000 of 3016544 30165442641000 of 3016544 2683000 of 3016544 0.8575150918993346 - validation sample 2693000 of 3016544 2701000 of 30165443016544 0.8577053112836701 - validation sample 2738000 of 3016544 0.8576566061189577 - validation sample 2769000 of 3016544 0.8576915559065673 - validation sample 2778000 of 3016544 0.8576322881943216 - validation sample 2798000 of 3016544- validation sample 2808000 of 3016544 0.8578153369372481 - validation sample 2826000 of 3016544 - validation sample 2835000 of 3016544 0.8579026519329634 - validation sample 2844000 of 3016544 0.8579881324962733 - validation sample 2853000 of 30165443016544 0.8579889420378543 - validation sample 2881000 of 3016544 0.8580476513535441 - validation sample 2920000 of 3016544 2929000 of 3016544- validation sample 2947000 of 3016544 0.8581911846443895 - validation sample 2956000 of 3016544 0.8581744585271184 - validation sample 2970000 of 3016544 0.8582046159877004 - validation sample 2977000 of 3016544 0.8582363075615591 - validation sample 2984000 of 3016544 0.8582019865590148 - validation sample 2991000 of 3016544 0.8582130530149127 - validation sample 3014000 of 3016544\n",
      "Train on 7877220 samples\n",
      "Epoch 2/2\n",
      "7877220/7877220 [==============================] - 25s 3us/sample - loss: 0.1336\n",
      "Train on 7877220 samples\n",
      "Epoch 3/3\n",
      "7877220/7877220 [==============================] - 30s 4us/sample - loss: 0.1079\n",
      "Train on 7877220 samples\n",
      "Epoch 4/4\n",
      "7877220/7877220 [==============================] - 32s 4us/sample - loss: 0.0955\n",
      "Train on 7877220 samples\n",
      "Epoch 5/5\n",
      "7877220/7877220 [==============================] - 33s 4us/sample - loss: 0.0879\n"
     ]
    },
    {
     "name": "stdout",
     "output_type": "stream",
     "text": [
      "> auc score: 0.9137085829878704 - validation sample 3016000 of 3016544f 3016544 0.9276115216702032 - validation sample 41000 of 3016544 0.9235512741454309 - validation sample 60000 of 3016544 3016544 0.9192028363349866 - validation sample 99000 of 3016544 0.9198436376558872 - validation sample 121000 of 3016544 0.9187720087713659 - validation sample 140000 of 3016544 0.918076954923854 - validation sample 157000 of 3016544 0.9175751863495037 - validation sample 174000 of 3016544 0.9159186151026649 - validation sample 257000 of 3016544340000 of 3016544 0.9166743913640693 - validation sample 356000 of 3016544 369000 of 3016544 0.9174516602318629 - validation sample 381000 of 3016544393000 of 3016544 0.9174298335065839 - validation sample 405000 of 3016544- validation sample 416000 of 3016544 0.9161144146517141 - validation sample 429000 of 3016544 0.9161705915457589 - validation sample 446000 of 3016544 0.9163126803606026 - validation sample 464000 of 3016544 0.9163489152333714 - validation sample 476000 of 3016544 0.9160782010714557 - validation sample 487000 of 3016544 521000 of 3016544of 30165440.9147594429036409 - validation sample 565000 of 3016544 0.9147790763746522 - validation sample 579000 of 3016544 0.9149308869410694 - validation sample 592000 of 3016544 0.9148579822581989 - validation sample 612000 of 3016544 0.9146878317226629 - validation sample 634000 of 3016544 0.914237935612903 - validation sample 656000 of 30165443016544 0.9145491392869197 - validation sample 714000 of 3016544- validation sample 734000 of 3016544 0.9138633282027514 - validation sample 753000 of 3016544 0.9140934966361911 - validation sample 771000 of 3016544 0.9141846849751138 - validation sample 791000 of 3016544 0.9142519577136324 - validation sample 810000 of 3016544 0.9142100068278222 - validation sample 848000 of 3016544 0.9139446721193163 - validation sample 866000 of 3016544 0.9139864920788072 - validation sample 882000 of 3016544 0.9136945403393997 - validation sample 900000 of 3016544 0.9139313166688683 - validation sample 916000 of 3016544 3016544 - validation sample 1005000 of 30165441078000 of 30165443016544 0.9144812257798691 - validation sample 1114000 of 3016544 0.9148179403140153 - validation sample 1153000 of 3016544 0.9148393890261632 - validation sample 1170000 of 3016544 1205000 of 3016544 0.9149976510897252 - validation sample 1241000 of 3016544 0.9150188901812626 - validation sample 1275000 of 30165441290000 of 3016544 0.9152885116384761 - validation sample 1307000 of 3016544 3016544 0.9155115355206991 - validation sample 1351000 of 3016544 0.915573170041756 - validation sample 1361000 of 30165441369000 of 3016544 0.9156626156294516 - validation sample 1378000 of 3016544 0.915542959233627 - validation sample 1387000 of 3016544 0.9155649350788996 - validation sample 1395000 of 3016544 0.915632538723263 - validation sample 1404000 of 3016544 0.9156119577818996 - validation sample 1412000 of 3016544 0.9156988629846143 - validation sample 1421000 of 3016544 0.9156825764457507 - validation sample 1430000 of 3016544 0.9155842429555263 - validation sample 1467000 of 3016544 0.9156342034998621 - validation sample 1476000 of 3016544 0.9155609996222225 - validation sample 1485000 of 3016544 0.9155308463648953 - validation sample 1494000 of 3016544 0.9155513212041803 - validation sample 1502000 of 3016544 0.9155260939181978 - validation sample 1517000 of 3016544 0.9155115308121109 - validation sample 1525000 of 30165441532000 of 3016544 0.9154851198148573 - validation sample 1540000 of 3016544 0.915460351542704 - validation sample 1549000 of 3016544 0.9155003739600934 - validation sample 1563000 of 3016544 of 3016544 0.9152827860323934 - validation sample 1581000 of 3016544 0.915309965301151 - validation sample 1594000 of 3016544 0.9153589312405412 - validation sample 1605000 of 3016544 0.9153158419096954 - validation sample 1615000 of 3016544 0.9154047260733542 - validation sample 1626000 of 3016544 0.9154339906460662 - validation sample 1650000 of 3016544 3016544 0.9153465024767428 - validation sample 1677000 of 3016544 0.9153679411327363 - validation sample 1688000 of 3016544 0.9153853438909741 - validation sample 1700000 of 3016544 0.9153236305888645 - validation sample 1709000 of 3016544 0.9152538327975362 - validation sample 1718000 of 3016544 0.9152220781321286 - validation sample 1725000 of 3016544 0.9151853838421571 - validation sample 1732000 of 3016544 0.9150258811562106 - validation sample 1742000 of 3016544 0.9150017628561355 - validation sample 1750000 of 3016544of 3016544 0.9148266176616912 - validation sample 1799000 of 3016544- validation sample 1804000 of 3016544 0.914832828458704 - validation sample 1812000 of 3016544 0.9148519391925731 - validation sample 1823000 of 3016544 0.9148392834663306 - validation sample 1835000 of 3016544 0.9147610218097443 - validation sample 1845000 of 3016544 0.9148184709060145 - validation sample 1867000 of 3016544 0.9149318513948581 - validation sample 1877000 of 3016544 0.9149509942241592 - validation sample 1896000 of 3016544 0.9148085218165768 - validation sample 1911000 of 3016544 0.9145015742338907 - validation sample 1960000 of 3016544 0.914487872977752 - validation sample 1972000 of 3016544 0.9144516560223508 - validation sample 1984000 of 3016544 0.9145103082071566 - validation sample 1997000 of 3016544 0.9145593054983538 - validation sample 2008000 of 3016544 0.9146442679880747 - validation sample 2035000 of 30165442046000 of 3016544- validation sample 2058000 of 3016544 0.9145681572134506 - validation sample 2070000 of 3016544 0.9145312610320552 - validation sample 2082000 of 3016544 0.9145351578905122 - validation sample 2093000 of 3016544of 3016544 0.914392528454212 - validation sample 2130000 of 30165440.9144202080204444 - validation sample 2142000 of 3016544 3016544- validation sample 2205000 of 30165442218000 of 30165443016544 0.91440592577791 - validation sample 2242000 of 3016544 3016544 0.9143419588026381 - validation sample 2290000 of 3016544 0.9143303284092446 - validation sample 2301000 of 3016544 0.914255981731093 - validation sample 2313000 of 3016544 0.9142834777275365 - validation sample 2325000 of 3016544 0.9141987599154213 - validation sample 2350000 of 3016544 2387000 of 3016544 0.9140498075280765 - validation sample 2411000 of 3016544- validation sample 2423000 of 3016544 0.91393224571395 - validation sample 2434000 of 3016544of 30165442457000 of 30165440.9140008452184581 - validation sample 2468000 of 3016544 - validation sample 2480000 of 30165443016544 0.913998436277093 - validation sample 2503000 of 3016544 0.9139781654162364 - validation sample 2515000 of 3016544 0.9140047884291647 - validation sample 2524000 of 3016544 0.9139411871552816 - validation sample 2549000 of 3016544 0.913846932617468 - validation sample 2580000 of 3016544 0.9137813676122762 - validation sample 2593000 of 3016544 0.9136978417155549 - validation sample 2601000 of 3016544 0.9136904637093162 - validation sample 2623000 of 3016544 0.9136801838638247 - validation sample 2645000 of 3016544 0.9136434519522115 - validation sample 2667000 of 3016544 0.9136377077580652 - validation sample 2702000 of 3016544 0.9137248023028248 - validation sample 2725000 of 3016544 0.913734680652529 - validation sample 2736000 of 3016544 0.9137186679772777 - validation sample 2758000 of 3016544 2768000 of 3016544 2778000 of 3016544of 3016544 0.9137109126205858 - validation sample 2812000 of 3016544 0.9136672755584315 - validation sample 2879000 of 3016544 0.9136725809371474 - validation sample 2889000 of 3016544- validation sample 2923000 of 3016544 0.91374791976108 - validation sample 2963000 of 3016544 0.9137459058411627 - validation sample 2971000 of 3016544 0.9137348519897092 - validation sample 2998000 of 3016544 0.9137080433295499 - validation sample 3007000 of 3016544\n",
      "Train on 7877220 samples\n",
      "Epoch 6/6\n",
      "7877220/7877220 [==============================] - 26s 3us/sample - loss: 0.0824\n",
      "Train on 7877220 samples\n",
      "Epoch 7/7\n",
      "7877220/7877220 [==============================] - 30s 4us/sample - loss: 0.0782\n",
      "Train on 7877220 samples\n",
      "Epoch 8/8\n"
     ]
    },
    {
     "name": "stdout",
     "output_type": "stream",
     "text": [
      "7877220/7877220 [==============================] - 31s 4us/sample - loss: 0.0749\n",
      "Train on 7877220 samples\n",
      "Epoch 9/9\n",
      "7877220/7877220 [==============================] - 32s 4us/sample - loss: 0.0722\n",
      "> auc score: 0.9221561929190342 - validation sample 3016000 of 3016544.9323871511026123 - validation sample 57000 of 3016544 3016544 3016544 0.9258385059594058 - validation sample 111000 of 3016544188000 of 3016544 0.92426830493634 - validation sample 209000 of 3016544 0.9233747941498122 - validation sample 235000 of 3016544 0.923245434842666 - validation sample 257000 of 3016544 0.9242716990296463 - validation sample 280000 of 3016544 0.9245279331337682 - validation sample 307000 of 3016544- validation sample 366000 of 30165443016544 0.9244481347327268 - validation sample 442000 of 3016544 - validation sample 466000 of 3016544 0.9244930254724533 - validation sample 491000 of 3016544 0.9245011131506515 - validation sample 517000 of 3016544- validation sample 537000 of 3016544 0.9231036256311693 - validation sample 628000 of 30165443016544 0.9227556699916 - validation sample 675000 of 3016544of 3016544 0.922789704956014 - validation sample 789000 of 3016544- validation sample 810000 of 3016544 0.9228881794366072 - validation sample 831000 of 3016544 853000 of 3016544 0.9228313170708186 - validation sample 871000 of 3016544- validation sample 889000 of 3016544 3016544 0.9226103060593119 - validation sample 939000 of 3016544 0.9226709813005489 - validation sample 945000 of 3016544 - validation sample 968000 of 3016544 0.9227746692882487 - validation sample 976000 of 3016544 0.922590027547711 - validation sample 995000 of 3016544 0.9228556949072724 - validation sample 1032000 of 3016544 0.9229964042196112 - validation sample 1091000 of 3016544 0.9230478170740387 - validation sample 1110000 of 3016544 0.923271565538309 - validation sample 1186000 of 3016544 0.9233754789240208 - validation sample 1204000 of 3016544 0.9234025218012116 - validation sample 1220000 of 3016544 0.9234049203199026 - validation sample 1235000 of 3016544 0.9235568611545111 - validation sample 1250000 of 3016544 0.9234319148716997 - validation sample 1262000 of 3016544 0.9235352710991619 - validation sample 1278000 of 3016544 0.9236360713786156 - validation sample 1294000 of 30165441309000 of 3016544 0.923849227866344 - validation sample 1326000 of 3016544 3016544 0.9239874637129898 - validation sample 1350000 of 3016544 0.924032504400808 - validation sample 1356000 of 3016544- validation sample 1387000 of 3016544 0.9240477069361971 - validation sample 1406000 of 3016544 0.9241639070577307 - validation sample 1422000 of 3016544 0.9241259220264798 - validation sample 1438000 of 3016544 0.9240908987674475 - validation sample 1453000 of 3016544 0.9240348166088503 - validation sample 1467000 of 3016544 0.9239866818270843 - validation sample 1496000 of 3016544 - validation sample 1510000 of 3016544- validation sample 1527000 of 3016544 - validation sample 1569000 of 30165443016544 1648000 of 3016544 1663000 of 3016544- validation sample 1711000 of 3016544 0.9234780281123823 - validation sample 1726000 of 3016544 0.9232371974945243 - validation sample 1771000 of 3016544 0.9231086656726396 - validation sample 1786000 of 30165441799000 of 3016544 0.9231035647135151 - validation sample 1845000 of 3016544of 3016544 0.9230851576578811 - validation sample 1915000 of 3016544 0.9228615545323887 - validation sample 1928000 of 3016544 0.9229249503171231 - validation sample 1971000 of 3016544 0.9229128412737695 - validation sample 1984000 of 3016544 0.923062290977129 - validation sample 2024000 of 30165442038000 of 3016544 0.923027761459005 - validation sample 2092000 of 3016544 0.9229795896435617 - validation sample 2103000 of 3016544 2115000 of 3016544of 3016544 0.9229707198833318 - validation sample 2149000 of 3016544 0.9230256293301511 - validation sample 2188000 of 30165442228000 of 3016544 0.9229732486726568 - validation sample 2240000 of 3016544 of 3016544- validation sample 2279000 of 3016544 30165440.922858479001963 - validation sample 2303000 of 3016544- validation sample 2341000 of 30165440.9227513083540355 - validation sample 2352000 of 3016544 0.9226058381969549 - validation sample 2377000 of 3016544 2389000 of 3016544 0.9225711054409012 - validation sample 2413000 of 3016544 0.9224312280803478 - validation sample 2449000 of 3016544 0.9224921078861813 - validation sample 2461000 of 3016544 0.9225022444658976 - validation sample 2485000 of 3016544 30165442521000 of 3016544 0.9224823417915323 - validation sample 2544000 of 3016544 0.9224969004315726 - validation sample 2556000 of 3016544 0.9223784713538304 - validation sample 2579000 of 3016544 0.9222362957217458 - validation sample 2603000 of 3016544 0.9222326234764257 - validation sample 2614000 of 3016544 0.922203290783735 - validation sample 2637000 of 3016544 0.9222364342007424 - validation sample 2648000 of 3016544 0.9222339517736172 - validation sample 2659000 of 3016544 0.9222015272653455 - validation sample 2670000 of 3016544 0.9222294210259526 - validation sample 2681000 of 3016544 0.9221727997880874 - validation sample 2703000 of 3016544 0.9222080700080892 - validation sample 2711000 of 3016544 0.9222256809166921 - validation sample 2721000 of 3016544 0.9222511265552246 - validation sample 2732000 of 3016544 0.922198219819812 - validation sample 2765000 of 3016544 0.9222172470398966 - validation sample 2776000 of 30165442809000 of 3016544 0.9222185447965432 - validation sample 2819000 of 3016544 0.9221946771578046 - validation sample 2841000 of 3016544 0.9222220941961962 - validation sample 2864000 of 3016544- validation sample 2886000 of 3016544- validation sample 2907000 of 30165440.9221659535111119 - validation sample 2929000 of 3016544 - validation sample 2952000 of 3016544- validation sample 2984000 of 3016544 0.9221603185366417 - validation sample 3007000 of 3016544\n",
      "Train on 7877220 samples\n",
      "Epoch 10/10\n",
      "7877220/7877220 [==============================] - 29s 4us/sample - loss: 0.0701\n",
      "Train on 7877220 samples\n",
      "Epoch 11/11\n",
      "7877220/7877220 [==============================] - 25s 3us/sample - loss: 0.0683\n",
      "Train on 7877220 samples\n",
      "Epoch 12/12\n",
      "7877220/7877220 [==============================] - 27s 3us/sample - loss: 0.0668\n",
      "Train on 7877220 samples\n",
      "Epoch 13/13\n",
      "7877220/7877220 [==============================] - 25s 3us/sample - loss: 0.0655\n"
     ]
    },
    {
     "name": "stdout",
     "output_type": "stream",
     "text": [
      "> auc score: 0.92481624675398 - validation sample 2639000 of 30165444416544 0.9284552681286048 - validation sample 99000 of 3016544 3016544 0.9270088558822597 - validation sample 347000 of 3016544 of 3016544 0.9272495579811522 - validation sample 401000 of 30165443016544508000 of 3016544 0.9261793437646169 - validation sample 558000 of 3016544 0.9256266999577533 - validation sample 632000 of 3016544 0.9253795215007037 - validation sample 680000 of 30165443016544 0.9248238653886978 - validation sample 749000 of 3016544 0.9251181256574246 - validation sample 771000 of 3016544 0.9252321245496538 - validation sample 793000 of 3016544 0.9253202334289767 - validation sample 834000 of 30165443016544 0.925089114995532 - validation sample 921000 of 3016544 0.9250627788918396 - validation sample 941000 of 3016544 0.9251439539347409 - validation sample 980000 of 3016544 0.925366895386829 - validation sample 1055000 of 3016544 0.9254015635839743 - validation sample 1071000 of 3016544 0.9254711428180507 - validation sample 1089000 of 3016544 0.9258159819104628 - validation sample 1206000 of 3016544 0.9259581579708639 - validation sample 1241000 of 3016544 0.9259134134233598 - validation sample 1258000 of 3016544 0.9260047639178323 - validation sample 1275000 of 3016544 0.9261454554172812 - validation sample 1293000 of 3016544 0.9265515024989113 - validation sample 1380000 of 3016544 1414000 of 3016544 0.9265657856183317 - validation sample 1430000 of 3016544 0.9266127755098371 - validation sample 1446000 of 3016544 0.9264187783151985 - validation sample 1495000 of 3016544 0.9263636249247517 - validation sample 1510000 of 3016544 0.9263517543623659 - validation sample 1524000 of 3016544 0.9263464021182278 - validation sample 1536000 of 3016544 0.9262229158766694 - validation sample 1548000 of 3016544 0.9262812772061004 - validation sample 1561000 of 3016544 0.9262109744530023 - validation sample 1574000 of 3016544 0.9261645239746567 - validation sample 1599000 of 3016544 0.9261477801689757 - validation sample 1611000 of 3016544 0.9262275423997889 - validation sample 1622000 of 3016544 0.9262655368982158 - validation sample 1646000 of 3016544 0.9262099359409313 - validation sample 1658000 of 3016544 0.9261156131044233 - validation sample 1670000 of 3016544 0.9261029588917555 - validation sample 1681000 of 3016544 0.926178530627346 - validation sample 1692000 of 3016544 0.9261743390995663 - validation sample 1704000 of 3016544 0.9260735124935787 - validation sample 1715000 of 3016544 0.9259820926565764 - validation sample 1727000 of 3016544 0.9259034353631769 - validation sample 1739000 of 3016544 0.9257884929739891 - validation sample 1749000 of 3016544 0.9257551558209342 - validation sample 1760000 of 3016544 0.9257672735778115 - validation sample 1770000 of 3016544 0.9256912264507432 - validation sample 1781000 of 3016544 0.9256367602473436 - validation sample 1792000 of 3016544 0.9257199524570424 - validation sample 1803000 of 3016544 - validation sample 1813000 of 3016544 0.9257631985947377 - validation sample 1824000 of 3016544 0.925727560911411 - validation sample 1835000 of 3016544 0.9256426650527847 - validation sample 1844000 of 3016544 0.9257199537399062 - validation sample 1853000 of 3016544 0.9257202332329575 - validation sample 1862000 of 3016544 0.9256911532702605 - validation sample 1868000 of 3016544 0.9257643062590366 - validation sample 1875000 of 3016544 0.9257885622802539 - validation sample 1882000 of 3016544 0.9257706960960296 - validation sample 1888000 of 3016544 0.9257330207213611 - validation sample 1895000 of 3016544 0.9257806808097419 - validation sample 1901000 of 3016544 0.9257049655634353 - validation sample 1908000 of 3016544 0.9256198821828292 - validation sample 1915000 of 3016544 0.9255270938984943 - validation sample 1922000 of 3016544 0.9253945436005476 - validation sample 1929000 of 3016544 0.9254933236088204 - validation sample 1936000 of 3016544 0.9254936049955713 - validation sample 1943000 of 3016544 0.9254220895271336 - validation sample 1950000 of 3016544 0.9254599256719849 - validation sample 1957000 of 3016544 0.9255041112504525 - validation sample 1964000 of 3016544 0.925460210319528 - validation sample 1971000 of 3016544 0.9254753648160298 - validation sample 1986000 of 3016544 0.9254910012595375 - validation sample 1992000 of 3016544 0.9255215587980187 - validation sample 1998000 of 3016544 0.9255626612511624 - validation sample 2012000 of 3016544 0.9255998387321255 - validation sample 2019000 of 3016544 0.9256101058192963 - validation sample 2026000 of 3016544 0.9256453882708371 - validation sample 2033000 of 3016544 0.9255765070703397 - validation sample 2040000 of 3016544 0.9255750241450785 - validation sample 2047000 of 3016544 0.9255557539874677 - validation sample 2055000 of 3016544 0.9255582320280155 - validation sample 2062000 of 3016544 0.9255667026247814 - validation sample 2070000 of 3016544 0.9255597085853183 - validation sample 2078000 of 3016544 0.9255367263612824 - validation sample 2085000 of 3016544 0.9255693472421859 - validation sample 2092000 of 3016544 0.9255205312104237 - validation sample 2098000 of 3016544 0.9255370723945525 - validation sample 2106000 of 3016544 0.9255109150847137 - validation sample 2114000 of 3016544 0.9255389318534032 - validation sample 2121000 of 3016544 0.9254403545862996 - validation sample 2128000 of 3016544 0.925496993216194 - validation sample 2137000 of 3016544 0.9255370630940554 - validation sample 2147000 of 3016544 0.9255030479818971 - validation sample 2157000 of 3016544 0.9255263501725068 - validation sample 2166000 of 3016544 0.9255243908435704 - validation sample 2176000 of 30165442185000 of 3016544 0.9255435418936028 - validation sample 2195000 of 3016544- validation sample 2213000 of 3016544 0.9255825795849845 - validation sample 2223000 of 3016544 0.9254917485482541 - validation sample 2233000 of 3016544 3016544 0.9254960541573589 - validation sample 2262000 of 3016544 of 3016544 0.9254272256898133 - validation sample 2280000 of 3016544 0.9253936542622743 - validation sample 2289000 of 3016544 0.9253858523767498 - validation sample 2299000 of 3016544 0.9253726493186095 - validation sample 2308000 of 3016544 0.9253493413862948 - validation sample 2316000 of 3016544 0.9253712148941011 - validation sample 2325000 of 3016544 0.9253487894820953 - validation sample 2334000 of 3016544 0.9253342188074184 - validation sample 2343000 of 3016544 0.9253138072645377 - validation sample 2352000 of 3016544 0.9252588203054551 - validation sample 2361000 of 3016544 0.9251790100552933 - validation sample 2369000 of 3016544 0.9251779120362018 - validation sample 2378000 of 3016544 0.9251860388831006 - validation sample 2387000 of 3016544 0.925186174797089 - validation sample 2396000 of 3016544 0.9251784094892268 - validation sample 2405000 of 3016544 0.9251387473545559 - validation sample 2415000 of 3016544 0.9250643607982018 - validation sample 2425000 of 3016544 0.9250234683291659 - validation sample 2432000 of 3016544 0.925025440563344 - validation sample 2440000 of 3016544 0.9249996222949685 - validation sample 2449000 of 3016544 0.9250492775542216 - validation sample 2457000 of 3016544 0.925066292902508 - validation sample 2475000 of 3016544of 3016544 0.925013272466584 - validation sample 2492000 of 3016544 0.9250400139784031 - validation sample 2501000 of 3016544 0.9250382768771805 - validation sample 2510000 of 3016544 0.9250655319311107 - validation sample 2519000 of 3016544 0.9250451245865805 - validation sample 2528000 of 3016544 0.9250327453556384 - validation sample 2537000 of 3016544 0.925031070714707 - validation sample 2545000 of 3016544- validation sample 2553000 of 3016544 0.9250195452694984 - validation sample 2562000 of 3016544 0.9249296285765739 - validation sample 2571000 of 3016544 0.9249353004126742 - validation sample 2580000 of 3016544 0.9248949691406068 - validation sample 2589000 of 3016544 0.9248918271498547 - validation sample 2597000 of 3016544 0.9248235131145384 - validation sample 2606000 of 3016544 0.9248290918435595 - validation sample 2615000 of 3016544 0.9248441003263056 - validation sample 2623000 of 3016544 0.9248438141984743 - validation sample 2631000 of 3016544"
     ]
    },
    {
     "name": "stdout",
     "output_type": "stream",
     "text": [
      "> auc score: 0.9247288047981417 - validation sample 3016000 of 3016544 0.9248098211639092 - validation sample 2655000 of 3016544 0.9248145231639042 - validation sample 2663000 of 30165443016544 0.9248265205871192 - validation sample 2680000 of 3016544 0.9248296410604014 - validation sample 2688000 of 3016544 0.9247633810224848 - validation sample 2696000 of 3016544 0.9247640810783724 - validation sample 2704000 of 3016544 0.9247909569354879 - validation sample 2712000 of 3016544 0.9248084835262929 - validation sample 2720000 of 3016544 0.9248127108457804 - validation sample 2728000 of 3016544 0.9248414017392538 - validation sample 2736000 of 30165442744000 of 3016544 0.9248213131778739 - validation sample 2753000 of 3016544 0.9247954735108517 - validation sample 2767000 of 3016544 0.9247915886074329 - validation sample 2773000 of 3016544 0.9248186668518651 - validation sample 2779000 of 3016544 0.9248578877035579 - validation sample 2786000 of 3016544 0.9248556859399406 - validation sample 2792000 of 3016544 0.9248324071363806 - validation sample 2798000 of 3016544 0.9248188570546159 - validation sample 2804000 of 3016544 0.9248078559402648 - validation sample 2810000 of 3016544 0.9248214045378536 - validation sample 2816000 of 3016544 0.9247917375870571 - validation sample 2823000 of 3016544 0.9247986842816375 - validation sample 2831000 of 3016544 0.9247812875021882 - validation sample 2839000 of 3016544 0.924780223040652 - validation sample 2848000 of 3016544 0.924805766606312 - validation sample 2857000 of 3016544 0.9248183031676654 - validation sample 2867000 of 3016544 0.9247680261676431 - validation sample 2875000 of 3016544 0.9247552271999906 - validation sample 2884000 of 3016544 0.9247860612561143 - validation sample 2893000 of 3016544 0.9247715627940859 - validation sample 2902000 of 3016544 0.9247564669335394 - validation sample 2911000 of 3016544 0.9247476285110862 - validation sample 2920000 of 3016544 0.9247381615779579 - validation sample 2929000 of 3016544 0.9247567455744315 - validation sample 2939000 of 3016544 0.9247384922868073 - validation sample 2948000 of 3016544 0.9247734444459099 - validation sample 2957000 of 3016544 0.9248216706602593 - validation sample 2966000 of 3016544 0.9247785126794915 - validation sample 2975000 of 3016544 0.9248084504150952 - validation sample 2991000 of 3016544 0.9247662805047414 - validation sample 2999000 of 3016544 0.9247343116946087 - validation sample 3007000 of 3016544 0.9247220813525435 - validation sample 3015000 of 3016544\n",
      "Train on 7877220 samples\n",
      "Epoch 14/14\n",
      "7877220/7877220 [==============================] - 28s 4us/sample - loss: 0.0644\n",
      "Train on 7877220 samples\n",
      "Epoch 15/15\n",
      "7877220/7877220 [==============================] - 33s 4us/sample - loss: 0.0634\n",
      "Train on 7877220 samples\n",
      "Epoch 16/16\n",
      "7877220/7877220 [==============================] - 42s 5us/sample - loss: 0.0625\n",
      "Train on 7877220 samples\n",
      "Epoch 17/17\n",
      "7877220/7877220 [==============================] - 48s 6us/sample - loss: 0.0618\n"
     ]
    },
    {
     "name": "stdout",
     "output_type": "stream",
     "text": [
      "> auc score: 0.9271636733173271 - validation sample 1479000 of 3016544.9366319765934595 - validation sample 27000 of 3016544 0.935974703386395 - validation sample 37000 of 3016544 0.9374481394012893 - validation sample 47000 of 3016544 0.9348631920139308 - validation sample 58000 of 3016544 0.9340597932383348 - validation sample 68000 of 3016544 0.9333854694170588 - validation sample 78000 of 3016544 0.9298139580883726 - validation sample 91000 of 3016544 0.929324222311546 - validation sample 102000 of 3016544 0.9293634569605579 - validation sample 113000 of 3016544 0.9303634648107677 - validation sample 124000 of 3016544 3016544 0.9284936404545174 - validation sample 146000 of 3016544158000 of 3016544 0.9278509893621301 - validation sample 174000 of 3016544 0.9275326476739373 - validation sample 186000 of 3016544 0.9281943870926015 - validation sample 201000 of 3016544 0.9275264098274416 - validation sample 211000 of 3016544 0.9278102814014416 - validation sample 221000 of 3016544 0.9272437945921974 - validation sample 230000 of 3016544 0.9269135251507226 - validation sample 242000 of 3016544 0.9265479105241646 - validation sample 252000 of 3016544 0.927075746883974 - validation sample 265000 of 3016544 0.9274587456362974 - validation sample 277000 of 3016544 0.9278623177161458 - validation sample 290000 of 3016544 0.9278649245382028 - validation sample 303000 of 3016544 0.9273977053700146 - validation sample 317000 of 3016544 0.9274591870541427 - validation sample 329000 of 3016544 0.9276103344930521 - validation sample 336000 of 3016544 0.9277306442590022 - validation sample 345000 of 3016544 0.9273787362182593 - validation sample 354000 of 3016544 0.9274461843596001 - validation sample 361000 of 3016544 0.9279893550423982 - validation sample 369000 of 3016544 0.9278202967717016 - validation sample 378000 of 3016544 0.9280861247757167 - validation sample 384000 of 3016544 of 3016544401000 of 3016544 0.927902376766805 - validation sample 409000 of 3016544 - validation sample 421000 of 3016544 431000 of 3016544 0.9274042270784941 - validation sample 443000 of 3016544 0.9277803785046627 - validation sample 455000 of 3016544 0.9276711232879069 - validation sample 465000 of 3016544- validation sample 476000 of 3016544 0.9274684509847628 - validation sample 489000 of 3016544- validation sample 501000 of 3016544 0.9276060243019131 - validation sample 510000 of 3016544 0.9274116780544652 - validation sample 520000 of 3016544 0.9274114577142307 - validation sample 530000 of 3016544 0.9273168012651828 - validation sample 540000 of 30165440.9270941643866828 - validation sample 553000 of 3016544 0.9264375195105476 - validation sample 567000 of 3016544 0.9265278087754173 - validation sample 578000 of 3016544 0.926511160422478 - validation sample 589000 of 3016544 0.9265442154006399 - validation sample 601000 of 3016544 0.9264821462710028 - validation sample 612000 of 3016544 0.9266036491113177 - validation sample 623000 of 3016544 0.9263587261315543 - validation sample 633000 of 3016544 0.9261214212730617 - validation sample 643000 of 3016544 0.9261685663574788 - validation sample 653000 of 3016544 0.9261056921482773 - validation sample 663000 of 3016544 0.9261380917832466 - validation sample 674000 of 3016544 0.9262901949122523 - validation sample 686000 of 3016544 0.9263760023299823 - validation sample 697000 of 3016544 0.9262465827512919 - validation sample 710000 of 3016544 - validation sample 719000 of 3016544 0.9257864030323246 - validation sample 730000 of 3016544 0.9254103570710431 - validation sample 741000 of 3016544 0.9255740005672429 - validation sample 751000 of 3016544 0.9257166329178046 - validation sample 762000 of 3016544 0.9258024214438999 - validation sample 774000 of 3016544 0.9258432068326443 - validation sample 784000 of 3016544 0.925812907270217 - validation sample 796000 of 3016544 0.925914483977067 - validation sample 806000 of 3016544 816000 of 3016544 0.9260182273056502 - validation sample 827000 of 3016544 0.9260467951535387 - validation sample 835000 of 3016544 3016544 0.925918215300333 - validation sample 855000 of 3016544 0.925750374855058 - validation sample 865000 of 3016544 0.9258723764283051 - validation sample 877000 of 3016544 0.9255548931153321 - validation sample 894000 of 3016544 0.9256785351618396 - validation sample 905000 of 3016544 0.9257637573700686 - validation sample 914000 of 3016544 0.9257067903606165 - validation sample 924000 of 3016544 0.9256241400385177 - validation sample 931000 of 3016544941000 of 3016544 0.9257160107798629 - validation sample 954000 of 3016544- validation sample 962000 of 30165440.9258262079977284 - validation sample 972000 of 3016544 0.9257431949610653 - validation sample 981000 of 3016544 0.9257728022496947 - validation sample 990000 of 3016544 0.9256803939256804 - validation sample 1001000 of 3016544 0.9257359785005158 - validation sample 1011000 of 3016544 0.9257006597840902 - validation sample 1022000 of 3016544 0.925946725560887 - validation sample 1031000 of 30165443016544of 3016544 0.9259829762744765 - validation sample 1053000 of 3016544 0.926080669090282 - validation sample 1067000 of 3016544 0.9260745567276009 - validation sample 1074000 of 3016544 0.9261184772262006 - validation sample 1081000 of 3016544 0.9259571452446163 - validation sample 1095000 of 3016544 0.9259410835380367 - validation sample 1102000 of 3016544 0.9260262163875416 - validation sample 1109000 of 3016544 0.9260601020966827 - validation sample 1116000 of 3016544 0.9260606179335549 - validation sample 1123000 of 3016544 0.9261071450379248 - validation sample 1130000 of 3016544 0.9261487017161815 - validation sample 1137000 of 3016544 0.9261591554552837 - validation sample 1144000 of 3016544 0.9262494124679301 - validation sample 1151000 of 3016544 0.9262867648646245 - validation sample 1158000 of 3016544 0.9263013508142911 - validation sample 1165000 of 3016544 0.9263282810500588 - validation sample 1173000 of 3016544 0.9263042997421188 - validation sample 1180000 of 3016544 0.9262949230876807 - validation sample 1187000 of 3016544 0.9262965441402478 - validation sample 1194000 of 3016544 0.9263855733675492 - validation sample 1201000 of 3016544 0.9264119715368309 - validation sample 1209000 of 30165440.9264424947018958 - validation sample 1216000 of 3016544 0.9264594752763999 - validation sample 1232000 of 3016544 0.926557317292486 - validation sample 1240000 of 3016544 0.9266231542717287 - validation sample 1247000 of 3016544 0.9266045242388165 - validation sample 1254000 of 3016544 0.9265345546910748 - validation sample 1261000 of 3016544 0.926568221774451 - validation sample 1269000 of 3016544 0.9266348537344407 - validation sample 1276000 of 3016544 0.9267389503203817 - validation sample 1283000 of 3016544 0.9267853280733891 - validation sample 1290000 of 3016544 0.9267918837379462 - validation sample 1297000 of 3016544 0.9268399028046722 - validation sample 1305000 of 3016544 0.9269009703498702 - validation sample 1312000 of 3016544 0.9268795095682263 - validation sample 1319000 of 3016544 0.9269548062180949 - validation sample 1326000 of 30165443016544 1340000 of 3016544 0.9270386584716716 - validation sample 1347000 of 3016544 0.9271108366980526 - validation sample 1354000 of 3016544 0.9271440652872408 - validation sample 1361000 of 3016544 0.9271746331814221 - validation sample 1369000 of 3016544 0.9272173494059961 - validation sample 1376000 of 3016544 0.9271280353376462 - validation sample 1383000 of 3016544 0.9271029301417769 - validation sample 1390000 of 3016544 0.9271460793514106 - validation sample 1397000 of 3016544 0.927169567543043 - validation sample 1404000 of 3016544 0.927159512998219 - validation sample 1411000 of 3016544 0.9272306578063062 - validation sample 1418000 of 3016544 0.9272837589299445 - validation sample 1424000 of 3016544 0.927190127749736 - validation sample 1431000 of 3016544 0.9272147830335072 - validation sample 1439000 of 3016544 0.9272429569252894 - validation sample 1445000 of 3016544 0.9272528049223107 - validation sample 1452000 of 3016544 0.9271412502447134 - validation sample 1466000 of 3016544 0.9272043942943691 - validation sample 1473000 of 3016544"
     ]
    },
    {
     "name": "stdout",
     "output_type": "stream",
     "text": [
      "> auc score: 0.9254055287116947 - validation sample 3016000 of 3016544 0.9270876155831447 - validation sample 1496000 of 3016544 0.9270591846782826 - validation sample 1505000 of 3016544 0.9270165717008779 - validation sample 1513000 of 3016544 0.9269704816225482 - validation sample 1522000 of 3016544 0.9269980881789104 - validation sample 1531000 of 3016544 0.9269390480603192 - validation sample 1541000 of 3016544 0.9269096042914662 - validation sample 1559000 of 3016544 0.9269413731241243 - validation sample 1568000 of 3016544 0.9268023277551789 - validation sample 1578000 of 30165441595000 of 3016544 0.9268508571467808 - validation sample 1602000 of 3016544 0.9268545344553967 - validation sample 1615000 of 3016544 0.9269106492536071 - validation sample 1622000 of 3016544of 3016544 0.9268820019070325 - validation sample 1635000 of 3016544 0.9269263538816359 - validation sample 1642000 of 3016544 0.9269236343701429 - validation sample 1649000 of 3016544 0.9269329746628552 - validation sample 1655000 of 3016544 0.9267990813483266 - validation sample 1662000 of 3016544 0.9267606662114505 - validation sample 1671000 of 3016544 0.9267859271732342 - validation sample 1686000 of 3016544 0.9268487429971968 - validation sample 1692000 of 3016544 0.9268451549792962 - validation sample 1698000 of 3016544 0.9268404185208812 - validation sample 1704000 of 3016544 0.9267471289352396 - validation sample 1716000 of 3016544 0.9266464544870056 - validation sample 1728000 of 3016544 0.9265647345803711 - validation sample 1739000 of 3016544 0.9264940249317909 - validation sample 1745000 of 3016544 0.9264374707409154 - validation sample 1758000 of 3016544 0.9264342820667335 - validation sample 1764000 of 3016544 0.9264333748963983 - validation sample 1770000 of 3016544 0.9263840504594311 - validation sample 1776000 of 3016544 0.9263586271837109 - validation sample 1782000 of 3016544 0.9263250131967596 - validation sample 1794000 of 3016544 0.9263790641625615 - validation sample 1802000 of 3016544 0.9263717221395342 - validation sample 1808000 of 3016544 0.9264135867766593 - validation sample 1816000 of 3016544 0.926418810966624 - validation sample 1822000 of 3016544 0.9263827630493368 - validation sample 1829000 of 3016544 - validation sample 1850000 of 3016544 0.9263897335535515 - validation sample 1863000 of 3016544 0.9263791837544472 - validation sample 1870000 of 3016544 0.92643447418205 - validation sample 1876000 of 3016544 0.926440293977539 - validation sample 1883000 of 30165441891000 of 3016544 0.9264207865082746 - validation sample 1899000 of 3016544 0.9263828388134039 - validation sample 1907000 of 3016544 0.9262750906706207 - validation sample 1916000 of 3016544 0.9261330253854414 - validation sample 1925000 of 3016544 of 3016544 0.9261188651651928 - validation sample 1944000 of 3016544 0.9261020891784159 - validation sample 1950000 of 3016544 0.9261506247316872 - validation sample 1959000 of 3016544 0.9261984337683198 - validation sample 1996000 of 3016544 0.926261490905632 - validation sample 2008000 of 3016544 0.9262956714803217 - validation sample 2016000 of 3016544 0.926301764789252 - validation sample 2025000 of 3016544 0.9263727008983771 - validation sample 2034000 of 3016544 0.9263095714867621 - validation sample 2045000 of 3016544 0.9262663455373196 - validation sample 2054000 of 3016544 0.9262739087378048 - validation sample 2063000 of 3016544 0.9262632949550169 - validation sample 2074000 of 3016544 0.9262516969365162 - validation sample 2106000 of 3016544 0.9262402239998941 - validation sample 2115000 of 3016544 0.9262486222934924 - validation sample 2124000 of 3016544 0.92623134288255 - validation sample 2140000 of 3016544 0.9262687814304698 - validation sample 2147000 of 3016544of 3016544 0.9262515032783794 - validation sample 2211000 of 3016544 0.9262778607370463 - validation sample 2228000 of 3016544 0.9261870576344261 - validation sample 2235000 of 3016544 0.9261819321525047 - validation sample 2243000 of 3016544of 3016544 0.9262209268610329 - validation sample 2259000 of 3016544 - validation sample 2269000 of 3016544 of 3016544 0.9261054788211421 - validation sample 2295000 of 3016544 0.9260843066532117 - validation sample 2302000 of 3016544 0.9260554432660418 - validation sample 2310000 of 3016544 0.9260353919640397 - validation sample 2319000 of 3016544 0.9259996059576144 - validation sample 2350000 of 3016544 - validation sample 2363000 of 3016544 0.9258758758970118 - validation sample 2368000 of 3016544 0.9258710805431604 - validation sample 2373000 of 30165443016544 0.9258812025601663 - validation sample 2390000 of 30165442394000 of 30165443016544 0.9258156893886954 - validation sample 2414000 of 3016544 0.9257183056598334 - validation sample 2435000 of 3016544 0.9257050693547442 - validation sample 2441000 of 3016544 0.9257081428014093 - validation sample 2453000 of 3016544 0.9257775381158826 - validation sample 2472000 of 3016544 0.9257440751941561 - validation sample 2477000 of 3016544- validation sample 2481000 of 3016544 0.9257341408953577 - validation sample 2486000 of 3016544 0.925694530030297 - validation sample 2491000 of 3016544 0.9257062422019069 - validation sample 2495000 of 3016544 0.92570420449137 - validation sample 2515000 of 3016544 0.9257111665835629 - validation sample 2541000 of 3016544 0.9257163356713809 - validation sample 2545000 of 3016544 0.9257089492531497 - validation sample 2556000 of 3016544 0.9256897245551426 - validation sample 2562000 of 3016544 0.9256075452895989 - validation sample 2581000 of 3016544 0.9255800751817188 - validation sample 2586000 of 3016544 0.9255004132690718 - validation sample 2600000 of 3016544 0.9254850516570462 - validation sample 2604000 of 3016544 0.9255073138392201 - validation sample 2608000 of 3016544 0.9254879734068223 - validation sample 2613000 of 3016544 0.9255112237149056 - validation sample 2635000 of 3016544 0.9255034373093041 - validation sample 2640000 of 3016544 0.9255213730557714 - validation sample 2647000 of 3016544 0.9254960732594828 - validation sample 2655000 of 3016544 0.9255000278817261 - validation sample 2672000 of 3016544 0.9255183113737644 - validation sample 2680000 of 3016544 - validation sample 2699000 of 3016544 0.9254654874527198 - validation sample 2707000 of 3016544 0.9254817819823877 - validation sample 2713000 of 3016544 0.925495612400437 - validation sample 2718000 of 3016544 0.9255077309215954 - validation sample 2726000 of 3016544 0.9254982036840979 - validation sample 2742000 of 3016544 0.925495116225858 - validation sample 2749000 of 3016544 0.9255069160598564 - validation sample 2758000 of 3016544 0.9254897639575931 - validation sample 2777000 of 3016544 30165442793000 of 3016544 0.9254805831321502 - validation sample 2803000 of 3016544 3016544 0.9254645515479875 - validation sample 2833000 of 3016544 0.9254486539589536 - validation sample 2842000 of 30165440.9254386226531148 - validation sample 2850000 of 3016544 0.9254263636461558 - validation sample 2878000 of 3016544 0.9254172122601482 - validation sample 2886000 of 3016544 0.9254087896580658 - validation sample 2921000 of 3016544 0.925416976959338 - validation sample 2926000 of 3016544 0.9254091628335619 - validation sample 2933000 of 3016544 0.9254009094182559 - validation sample 2941000 of 3016544 0.9254028737189306 - validation sample 2949000 of 3016544 0.9254411618940589 - validation sample 2956000 of 3016544 0.925473194237869 - validation sample 2963000 of 3016544 0.9254736030045092 - validation sample 2971000 of 3016544 0.9254656175006319 - validation sample 2979000 of 3016544 0.9254677182900173 - validation sample 2987000 of 3016544 0.9254736563839598 - validation sample 2996000 of 3016544- validation sample 3005000 of 3016544\n",
      "Train on 7877220 samples\n",
      "Epoch 18/18\n",
      "7877220/7877220 [==============================] - 29s 4us/sample - loss: 0.0611\n",
      "Train on 7877220 samples\n",
      "Epoch 19/19\n",
      "7877220/7877220 [==============================] - 27s 3us/sample - loss: 0.0605\n",
      "Train on 7877220 samples\n",
      "Epoch 20/20\n",
      "7877220/7877220 [==============================] - 27s 3us/sample - loss: 0.0599\n"
     ]
    }
   ],
   "source": [
    "model.train(os.path.join(data_path, 'outputs/models/' + dataset + '_' + method + '_' + model_type + '_model.h5'))"
   ]
  },
  {
   "cell_type": "markdown",
   "metadata": {},
   "source": [
    "Model architecture"
   ]
  },
  {
   "cell_type": "code",
   "execution_count": null,
   "metadata": {},
   "outputs": [],
   "source": [
    "model.print()"
   ]
  },
  {
   "cell_type": "markdown",
   "metadata": {},
   "source": [
    "## Compute user-item relevance scores"
   ]
  },
  {
   "cell_type": "code",
   "execution_count": 88,
   "metadata": {},
   "outputs": [
    {
     "name": "stdout",
     "output_type": "stream",
     "text": [
      "> Making predictions for user 6039 / 6040 6040 6040 6040 530 / 60406040/ 6040 951 / 6040 1062 / 6040/ 6040 / 6040/ 6040 1582 / 6040 1693 / 604060406040 2116 / 6040 6040 2318 / 60406040 6040/ 6040 6040 / 6040/ 60406040 60404143 / 6040 / 60404579 / 6040/ 6040 / 6040 6040/ 60405269 / 6040 / 6040 / 6040 / 6040 5804 / 6040/ 6040"
     ]
    }
   ],
   "source": [
    "model.predict()"
   ]
  },
  {
   "cell_type": "code",
   "execution_count": null,
   "metadata": {},
   "outputs": [],
   "source": [
    "scores = model.get_predictions()"
   ]
  },
  {
   "cell_type": "code",
   "execution_count": null,
   "metadata": {},
   "outputs": [],
   "source": [
    "scores.shape"
   ]
  },
  {
   "cell_type": "code",
   "execution_count": null,
   "metadata": {},
   "outputs": [],
   "source": [
    "user_id, item_id = 120, 320\n",
    "scores[user_id, item_id]"
   ]
  },
  {
   "cell_type": "code",
   "execution_count": 89,
   "metadata": {},
   "outputs": [],
   "source": [
    "save_obj(scores, os.path.join(data_path, 'outputs/predictions/' + dataset + '_' + method + '_' + model_type + '_scores.h5'))"
   ]
  },
  {
   "cell_type": "markdown",
   "metadata": {},
   "source": [
    "## Calculate metrics"
   ]
  },
  {
   "cell_type": "code",
   "execution_count": 90,
   "metadata": {},
   "outputs": [
    {
     "name": "stdout",
     "output_type": "stream",
     "text": [
      "> Making metrics for user 6000 / 6040"
     ]
    }
   ],
   "source": [
    "model.test(cutoffs)"
   ]
  },
  {
   "cell_type": "code",
   "execution_count": null,
   "metadata": {},
   "outputs": [],
   "source": [
    "metrics = model.get_metrics()"
   ]
  },
  {
   "cell_type": "code",
   "execution_count": null,
   "metadata": {},
   "outputs": [],
   "source": [
    "metrics.keys()"
   ]
  },
  {
   "cell_type": "code",
   "execution_count": null,
   "metadata": {},
   "outputs": [],
   "source": [
    "for name, values in metrics.items():\n",
    "    print(name, values.shape)"
   ]
  },
  {
   "cell_type": "code",
   "execution_count": 91,
   "metadata": {},
   "outputs": [],
   "source": [
    "save_obj(metrics, os.path.join(data_path, 'outputs/metrics/' + dataset + '_' + method + '_' + model_type + '_metrics.h5'))"
   ]
  },
  {
   "cell_type": "code",
   "execution_count": 93,
   "metadata": {},
   "outputs": [
    {
     "name": "stdout",
     "output_type": "stream",
     "text": [
      "Precision: 0.1106 \n",
      " Recall: 0.0217 \n",
      " NDCG: 0.1149 \n",
      " Hit Rate: 0.326 \n",
      " Avg Popularity: 2512.4757 \n",
      " Category Diversity: 0.1917 \n",
      " Novelty: 1.2783 \n",
      " Item Coverage: 0.02 \n",
      " User Coverage: 0.326\n"
     ]
    }
   ],
   "source": [
    "model.show_metrics(np.where(cutoffs == 10))"
   ]
  },
  {
   "cell_type": "code",
   "execution_count": null,
   "metadata": {},
   "outputs": [],
   "source": []
  }
 ],
 "metadata": {
  "kernelspec": {
   "display_name": "Python 3",
   "language": "python",
   "name": "python3"
  },
  "language_info": {
   "codemirror_mode": {
    "name": "ipython",
    "version": 3
   },
   "file_extension": ".py",
   "mimetype": "text/x-python",
   "name": "python",
   "nbconvert_exporter": "python",
   "pygments_lexer": "ipython3",
   "version": "3.6.8"
  }
 },
 "nbformat": 4,
 "nbformat_minor": 1
}
