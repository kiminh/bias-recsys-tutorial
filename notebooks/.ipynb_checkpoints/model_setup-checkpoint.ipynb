{
 "cells": [
  {
   "cell_type": "code",
   "execution_count": 1,
   "metadata": {},
   "outputs": [],
   "source": [
    "import pandas as pd\n",
    "import numpy as np\n",
    "import argparse\n",
    "import os"
   ]
  },
  {
   "cell_type": "code",
   "execution_count": 3,
   "metadata": {},
   "outputs": [],
   "source": [
    "import sys \n",
    "\n",
    "sys.path.append(os.path.join('..'))\n",
    "\n",
    "from helpers.utils import save_obj, load_obj"
   ]
  },
  {
   "cell_type": "code",
   "execution_count": null,
   "metadata": {},
   "outputs": [],
   "source": [
    "dataset='ml1m'\n",
    "method='random', type=str, action='store')\n",
    "parser.add_argument('--mode', dest='mode', default='implicit', type=str, action='store')\n",
    "parser.add_argument('--user_field', dest='user_field', default='user_id', type=str, action='store')\n",
    "parser.add_argument('--item_field', dest='item_field', default='item_id', type=str, action='store')\n",
    "parser.add_argument('--rating_field', dest='rating_field', default='rating', type=str, action='store')\n",
    "parser.add_argument('--type_field', dest='type_field', default='type_id', type=str, action='store')\n",
    "parser.add_argument('--model', dest='model', default='random', type=str, action='store')\n",
    "parser.add_argument('--cutoffs', dest='cutoffs', default='5,10,20,50,100,200', type=str, action='store')"
   ]
  }
 ],
 "metadata": {
  "kernelspec": {
   "display_name": "Python 3",
   "language": "python",
   "name": "python3"
  },
  "language_info": {
   "codemirror_mode": {
    "name": "ipython",
    "version": 3
   },
   "file_extension": ".py",
   "mimetype": "text/x-python",
   "name": "python",
   "nbconvert_exporter": "python",
   "pygments_lexer": "ipython3",
   "version": "3.6.8"
  }
 },
 "nbformat": 4,
 "nbformat_minor": 1
}
